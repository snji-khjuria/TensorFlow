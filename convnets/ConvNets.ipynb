{
 "cells": [
  {
   "cell_type": "code",
   "execution_count": 4,
   "metadata": {
    "collapsed": true
   },
   "outputs": [],
   "source": [
    "#do the essential imports\n",
    "import tensorflow as tf\n",
    "import numpy as np\n",
    "from tensorflow.examples.tutorials.mnist import input_data"
   ]
  },
  {
   "cell_type": "code",
   "execution_count": 5,
   "metadata": {
    "collapsed": true
   },
   "outputs": [],
   "source": [
    "#utility functions\n",
    "def init_weights(shape):\n",
    "    return tf.Variable(tf.random_normal(shape, stddev=0.01))"
   ]
  },
  {
   "cell_type": "code",
   "execution_count": 6,
   "metadata": {
    "collapsed": true
   },
   "outputs": [],
   "source": [
    "#configuration variables\n",
    "batch_size = 128\n",
    "test_size  = 256"
   ]
  },
  {
   "cell_type": "code",
   "execution_count": 7,
   "metadata": {
    "collapsed": false
   },
   "outputs": [
    {
     "name": "stdout",
     "output_type": "stream",
     "text": [
      "Extracting MNIST_data/train-images-idx3-ubyte.gz\n",
      "Extracting MNIST_data/train-labels-idx1-ubyte.gz\n",
      "Extracting MNIST_data/t10k-images-idx3-ubyte.gz\n",
      "Extracting MNIST_data/t10k-labels-idx1-ubyte.gz\n"
     ]
    }
   ],
   "source": [
    "#read dataset\n",
    "mnist              = input_data.read_data_sets(\"MNIST_data\", one_hot=True)\n",
    "trX, trY, teX, teY = mnist.train.images, mnist.train.labels, mnist.test.images, mnist.test.labels\n",
    "#get batch of (28, 28, 1) for training images\n",
    "trX = trX.reshape(-1, 28, 28, 1)\n",
    "#get batch of (28, 28, 1) for testing images\n",
    "teX = teX.reshape(-1, 28, 28, 1)"
   ]
  },
  {
   "cell_type": "code",
   "execution_count": 20,
   "metadata": {
    "collapsed": true
   },
   "outputs": [],
   "source": [
    "#build the model\n",
    "def model(X, w1, w2, w3, w4, w_o, p_keep_conv, p_keep_hidden):\n",
    "    #X->l1a->l1(maxpool)->dropout->l2a->l2(maxpool)->dropout->l3a->maxpool->\n",
    "    \n",
    "    \n",
    "    #################################################################################################\n",
    "    ######################LAYER-1 STARTS#############################################################\n",
    "    #LAYER-1 INPUT: (?, 28, 28, 1) WEIGHTS: (3, 3, 1, 32) OUTPUT: (?, 14, 14, 32)\n",
    "    #weights size:[3, 3, 1, 32])i.e. 32 outputs of convolutions of 3 X 3 X 1\n",
    "    #OUTPUT:(?, 28, 28, 32); \n",
    "    l1a = tf.nn.relu(tf.nn.conv2d(X, w1, strides=[1, 1, 1, 1], padding='SAME'))\n",
    "    #OUTPUT:(?, 14, 14, 32)\n",
    "    l1  = tf.nn.max_pool(l1a, ksize=[1, 2, 2, 1], strides=[1, 2, 2, 1], padding='SAME') \n",
    "    l1  = tf.nn.dropout(l1, p_keep_conv)\n",
    "    ####################LAYER 1 ENDS################################################################\n",
    "    ################################################################################################\n",
    "    \n",
    "    \n",
    "    ###############################################################################################\n",
    "    #################LAYER 2 STARTS################################################################\n",
    "    #LAYER-2 INPUT:(?, 14, 14, 32) WEIGHTS(3, 3, 32, 64) OUTPUT: (?, 7, 7, 64)\n",
    "    #INPUT:(?, 14, 14, 32) OUTPUT:(?, 14, 14, 64)\n",
    "    #weights size:[3, 3, 32, 64] i.e. 64 outputs of convolutions of 3 X 3 X 32\n",
    "    l2a = tf.nn.relu(tf.nn.conv2d(l1, w2, strides=[1, 1, 1, 1], padding='SAME'))\n",
    "    #INPUT:(?, 14, 14, 64) OUTPUT:(?, 7, 7, 64)\n",
    "    l2  = tf.nn.max_pool(l2a, ksize=[1, 2, 2, 1], strides = [1, 2, 2, 1], padding='SAME')\n",
    "    #do the dropout\n",
    "    l2  = tf.nn.dropout(l2, p_keep_conv)\n",
    "    #########################LAYER-2 ENDS HERE####################################################\n",
    "    ##############################################################################################\n",
    "    #LAYER-3 \n",
    "    #INPUT:(?, 7, 7, 64) WEIGHTS(3, 3, 64, 128) OUTPUT:(?, 7, 7, 128)\n",
    "    l3a = tf.nn.relu(tf.nn.conv2d(l2, w3, strides=[1, 1, 1, 1], padding='SAME'))\n",
    "    #MAXPOOL of size (?, 4, 4, 128) \n",
    "    l3  = tf.nn.max_pool(l3a, ksize=[1, 2, 2, 1], strides=[1, 2, 2, 1], padding='SAME')\n",
    "    #get the vector of size 4*4*128=2048\n",
    "    l3  = tf.reshape(l3, [-1, w4.get_shape().as_list()[0]])\n",
    "    l3  = tf.nn.dropout(l3, p_keep_conv)\n",
    "    l4  =  tf.nn.relu(tf.matmul(l3, w4))\n",
    "    l4  = tf.nn.dropout(l4, p_keep_hidden)\n",
    "    pyx = tf.matmul(l4, w_o)\n",
    "    return pyx"
   ]
  },
  {
   "cell_type": "code",
   "execution_count": 21,
   "metadata": {
    "collapsed": false
   },
   "outputs": [],
   "source": [
    "HIDDEN_FLATTENED_LAYER_SIZE = 625\n",
    "OUTPUT_SIZE = 10\n",
    "X = tf.placeholder(\"float\", shape=[None, 28, 28, 1])\n",
    "Y = tf.placeholder(\"float\", shape=[None, OUTPUT_SIZE])\n",
    "w1 = init_weights([3, 3, 1, 32])\n",
    "w2 = init_weights([3, 3, 32, 64])\n",
    "w3 = init_weights([3, 3, 64, 128])\n",
    "w4 = init_weights([2048, HIDDEN_FLATTENED_LAYER_SIZE])\n",
    "w_o = init_weights([HIDDEN_FLATTENED_LAYER_SIZE, OUTPUT_SIZE])\n",
    "p_keep_conv   = tf.placeholder(\"float\")\n",
    "p_keep_hidden = tf.placeholder(\"float\")\n",
    "py_x          = model(X, w1, w2, w3, w4, w_o, p_keep_conv, p_keep_hidden)\n",
    "cost          = tf.reduce_mean(tf.nn.softmax_cross_entropy_with_logits(labels=Y, logits=py_x))\n",
    "train_op      = tf.train.RMSPropOptimizer(0.001, 0.9).minimize(cost)\n",
    "predict_op    = tf.argmax(py_x, 1)"
   ]
  },
  {
   "cell_type": "code",
   "execution_count": 29,
   "metadata": {
    "collapsed": false
   },
   "outputs": [
    {
     "name": "stdout",
     "output_type": "stream",
     "text": [
      "Epoch:- 0 Accuracy:- 0.953125\n",
      "Epoch:- 1 Accuracy:- 0.984375\n",
      "Epoch:- 2 Accuracy:- 0.98046875\n",
      "Epoch:- 3 Accuracy:- 0.984375\n",
      "Epoch:- 4 Accuracy:- 0.984375\n",
      "Epoch:- 5 Accuracy:- 0.984375\n",
      "Epoch:- 6 Accuracy:- 0.99609375\n",
      "Epoch:- 7 Accuracy:- 0.98046875\n",
      "Epoch:- 8 Accuracy:- 0.99609375\n",
      "Epoch:- 9 Accuracy:- 0.98828125\n"
     ]
    }
   ],
   "source": [
    "with tf.Session() as sess:\n",
    "    tf.global_variables_initializer().run()\n",
    "    for i in range(10):\n",
    "        for start, end in zip(range(0, len(trX), batch_size), range(128, len(trX)+1, batch_size)):\n",
    "#             print(\"Batch: \" + str(start))\n",
    "            sess.run(train_op, feed_dict={X:trX[start:end], Y:trY[start:end], p_keep_conv:0.8, p_keep_hidden:0.5})\n",
    "        test_indices = np.arange(len(teX))\n",
    "        np.random.shuffle(test_indices)\n",
    "        test_indices = test_indices[:test_size]\n",
    "        predictions  = sess.run(predict_op, feed_dict={X:teX[test_indices], Y:teY[test_indices], p_keep_conv:1.0, \n",
    "                                                      p_keep_hidden:1.0})\n",
    "        actuals      = np.argmax(teY[test_indices], axis=1)\n",
    "        accuracy     = np.mean(predictions==actuals)\n",
    "        print(\"Epoch:- \" + str(i) + \" Accuracy:- \" + str(accuracy))"
   ]
  }
 ],
 "metadata": {
  "kernelspec": {
   "display_name": "Python 2",
   "language": "python",
   "name": "python2"
  },
  "language_info": {
   "codemirror_mode": {
    "name": "ipython",
    "version": 2
   },
   "file_extension": ".py",
   "mimetype": "text/x-python",
   "name": "python",
   "nbconvert_exporter": "python",
   "pygments_lexer": "ipython2",
   "version": "2.7.12"
  }
 },
 "nbformat": 4,
 "nbformat_minor": 2
}
