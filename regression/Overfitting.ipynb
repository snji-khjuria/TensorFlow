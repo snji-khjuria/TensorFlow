{
 "cells": [
  {
   "cell_type": "code",
   "execution_count": null,
   "metadata": {
    "collapsed": true
   },
   "outputs": [],
   "source": [
    "#1. DO essential imports\n",
    "#2. encode the dataset\n",
    "#3. Create/Compile the baseline model\n",
    "#4. Train the baseline model\n",
    "#5. Create/Compile the smaller model\n",
    "#6. Train the smaller model"
   ]
  },
  {
   "cell_type": "code",
   "execution_count": 19,
   "metadata": {
    "collapsed": false
   },
   "outputs": [],
   "source": [
    "#essential imports\n",
    "import tensorflow as tf\n",
    "import keras\n",
    "import numpy as np\n",
    "import matplotlib.pyplot as plt"
   ]
  },
  {
   "cell_type": "code",
   "execution_count": 4,
   "metadata": {
    "collapsed": false
   },
   "outputs": [],
   "source": [
    "NUM_WORDS = 10000\n",
    "(train_data, train_labels), (test_data, test_labels) = keras.datasets.imdb.load_data(num_words = NUM_WORDS)\n",
    "\n",
    "#return the multiword sequence in one hot vector\n",
    "def multihot_sequences(sequences, dimension):\n",
    "    #create zeros of shape len(sequences), dimension)\n",
    "    results = np.zeros((len(sequences), dimension))\n",
    "    for i, word_indices in enumerate(sequences):\n",
    "        results[i, word_indices] = 1.0\n",
    "    return results\n",
    "\n",
    "print(\"Encoding training set:- \")\n",
    "train_data = multihot_sequences(train_data, dimension=NUM_WORDS)\n",
    "print(\"Encoding test set:- \")\n",
    "test_data  = multihot_sequences(test_data, dimension=NUM_WORDS)"
   ]
  },
  {
   "cell_type": "code",
   "execution_count": null,
   "metadata": {
    "collapsed": true
   },
   "outputs": [],
   "source": [
    "plt.plot(train_data[0])"
   ]
  },
  {
   "cell_type": "code",
   "execution_count": 6,
   "metadata": {
    "collapsed": false
   },
   "outputs": [
    {
     "name": "stdout",
     "output_type": "stream",
     "text": [
      "_________________________________________________________________\n",
      "Layer (type)                 Output Shape              Param #   \n",
      "=================================================================\n",
      "dense_1 (Dense)              (None, 16)                160016    \n",
      "_________________________________________________________________\n",
      "dense_2 (Dense)              (None, 16)                272       \n",
      "_________________________________________________________________\n",
      "dense_3 (Dense)              (None, 1)                 17        \n",
      "=================================================================\n",
      "Total params: 160,305\n",
      "Trainable params: 160,305\n",
      "Non-trainable params: 0\n",
      "_________________________________________________________________\n"
     ]
    }
   ],
   "source": [
    "#baseline model setup\n",
    "baseline_model = keras.Sequential([\n",
    "    keras.layers.Dense(16, activation=tf.nn.relu, input_shape=(NUM_WORDS, )),\n",
    "    keras.layers.Dense(16, activation=tf.nn.relu),\n",
    "    keras.layers.Dense(1, activation=tf.nn.sigmoid)\n",
    "])\n",
    "baseline_model.compile(optimizer='adam', loss='binary_crossentropy', metrics=['accuracy', 'binary_crossentropy'])\n",
    "baseline_model.summary()"
   ]
  },
  {
   "cell_type": "code",
   "execution_count": 8,
   "metadata": {
    "collapsed": false
   },
   "outputs": [
    {
     "name": "stdout",
     "output_type": "stream",
     "text": [
      "Train on 25000 samples, validate on 25000 samples\n",
      "Epoch 1/20\n",
      " - 5s - loss: 0.4832 - acc: 0.8078 - binary_crossentropy: 0.4832 - val_loss: 0.3306 - val_acc: 0.8750 - val_binary_crossentropy: 0.3306\n",
      "Epoch 2/20\n",
      " - 4s - loss: 0.2419 - acc: 0.9105 - binary_crossentropy: 0.2419 - val_loss: 0.2813 - val_acc: 0.8882 - val_binary_crossentropy: 0.2813\n",
      "Epoch 3/20\n",
      " - 4s - loss: 0.1753 - acc: 0.9387 - binary_crossentropy: 0.1753 - val_loss: 0.2932 - val_acc: 0.8853 - val_binary_crossentropy: 0.2932\n",
      "Epoch 4/20\n",
      " - 4s - loss: 0.1386 - acc: 0.9537 - binary_crossentropy: 0.1386 - val_loss: 0.3194 - val_acc: 0.8785 - val_binary_crossentropy: 0.3194\n",
      "Epoch 5/20\n",
      " - 4s - loss: 0.1138 - acc: 0.9628 - binary_crossentropy: 0.1138 - val_loss: 0.3532 - val_acc: 0.8734 - val_binary_crossentropy: 0.3532\n",
      "Epoch 6/20\n",
      " - 4s - loss: 0.0945 - acc: 0.9704 - binary_crossentropy: 0.0945 - val_loss: 0.3905 - val_acc: 0.8682 - val_binary_crossentropy: 0.3905\n",
      "Epoch 7/20\n",
      " - 4s - loss: 0.0765 - acc: 0.9778 - binary_crossentropy: 0.0765 - val_loss: 0.4320 - val_acc: 0.8645 - val_binary_crossentropy: 0.4320\n",
      "Epoch 8/20\n",
      " - 4s - loss: 0.0620 - acc: 0.9837 - binary_crossentropy: 0.0620 - val_loss: 0.4788 - val_acc: 0.8615 - val_binary_crossentropy: 0.4788\n",
      "Epoch 9/20\n",
      " - 4s - loss: 0.0512 - acc: 0.9873 - binary_crossentropy: 0.0512 - val_loss: 0.5273 - val_acc: 0.8586 - val_binary_crossentropy: 0.5273\n",
      "Epoch 10/20\n",
      " - 4s - loss: 0.0428 - acc: 0.9898 - binary_crossentropy: 0.0428 - val_loss: 0.5918 - val_acc: 0.8549 - val_binary_crossentropy: 0.5918\n",
      "Epoch 11/20\n",
      " - 4s - loss: 0.0329 - acc: 0.9933 - binary_crossentropy: 0.0329 - val_loss: 0.6260 - val_acc: 0.8553 - val_binary_crossentropy: 0.6260\n",
      "Epoch 12/20\n",
      " - 4s - loss: 0.0266 - acc: 0.9956 - binary_crossentropy: 0.0266 - val_loss: 0.6680 - val_acc: 0.8535 - val_binary_crossentropy: 0.6680\n",
      "Epoch 13/20\n",
      " - 4s - loss: 0.0206 - acc: 0.9973 - binary_crossentropy: 0.0206 - val_loss: 0.7167 - val_acc: 0.8518 - val_binary_crossentropy: 0.7167\n",
      "Epoch 14/20\n",
      " - 4s - loss: 0.0151 - acc: 0.9986 - binary_crossentropy: 0.0151 - val_loss: 0.7698 - val_acc: 0.8503 - val_binary_crossentropy: 0.7698\n",
      "Epoch 15/20\n",
      " - 4s - loss: 0.0113 - acc: 0.9992 - binary_crossentropy: 0.0113 - val_loss: 0.8191 - val_acc: 0.8498 - val_binary_crossentropy: 0.8191\n",
      "Epoch 16/20\n",
      " - 4s - loss: 0.0084 - acc: 0.9996 - binary_crossentropy: 0.0084 - val_loss: 0.8582 - val_acc: 0.8499 - val_binary_crossentropy: 0.8582\n",
      "Epoch 17/20\n",
      " - 4s - loss: 0.0061 - acc: 0.9998 - binary_crossentropy: 0.0061 - val_loss: 0.9016 - val_acc: 0.8491 - val_binary_crossentropy: 0.9016\n",
      "Epoch 18/20\n",
      " - 4s - loss: 0.0047 - acc: 0.9999 - binary_crossentropy: 0.0047 - val_loss: 0.9342 - val_acc: 0.8496 - val_binary_crossentropy: 0.9342\n",
      "Epoch 19/20\n",
      " - 4s - loss: 0.0037 - acc: 0.9999 - binary_crossentropy: 0.0037 - val_loss: 0.9651 - val_acc: 0.8491 - val_binary_crossentropy: 0.9651\n",
      "Epoch 20/20\n",
      " - 4s - loss: 0.0030 - acc: 1.0000 - binary_crossentropy: 0.0030 - val_loss: 0.9969 - val_acc: 0.8487 - val_binary_crossentropy: 0.9969\n"
     ]
    }
   ],
   "source": [
    "#baseline model training\n",
    "baseline_history = baseline_model.fit(train_data, train_labels,\n",
    "                                       epochs=20, batch_size=512, validation_data=(test_data, test_labels), verbose=2)\n",
    "# baseline_history = baseline_model.fit(train_data,\n",
    "#                                       train_labels,\n",
    "#                                       epochs=20,\n",
    "#                                       batch_size=512,\n",
    "#                                       validation_data=(test_data, test_labels),\n",
    "#                                       verbose=2)\n"
   ]
  },
  {
   "cell_type": "code",
   "execution_count": 9,
   "metadata": {
    "collapsed": false
   },
   "outputs": [
    {
     "name": "stdout",
     "output_type": "stream",
     "text": [
      "_________________________________________________________________\n",
      "Layer (type)                 Output Shape              Param #   \n",
      "=================================================================\n",
      "dense_4 (Dense)              (None, 4)                 40004     \n",
      "_________________________________________________________________\n",
      "dense_5 (Dense)              (None, 4)                 20        \n",
      "_________________________________________________________________\n",
      "dense_6 (Dense)              (None, 1)                 5         \n",
      "=================================================================\n",
      "Total params: 40,029\n",
      "Trainable params: 40,029\n",
      "Non-trainable params: 0\n",
      "_________________________________________________________________\n"
     ]
    }
   ],
   "source": [
    "#smaller model\n",
    "smaller_model = keras.Sequential([\n",
    "    keras.layers.Dense(4, activation=tf.nn.relu, input_shape=(NUM_WORDS, )),\n",
    "    keras.layers.Dense(4, activation=tf.nn.relu),\n",
    "    keras.layers.Dense(1, activation=tf.nn.sigmoid)\n",
    "])\n",
    "smaller_model.compile(optimizer='adam', loss='binary_crossentropy', metrics=['accuracy', 'binary_crossentropy'])\n",
    "smaller_model.summary()"
   ]
  },
  {
   "cell_type": "code",
   "execution_count": 11,
   "metadata": {
    "collapsed": false
   },
   "outputs": [
    {
     "name": "stdout",
     "output_type": "stream",
     "text": [
      "Train on 25000 samples, validate on 25000 samples\n",
      "Epoch 1/20\n",
      " - 5s - loss: 0.4075 - acc: 0.8701 - binary_crossentropy: 0.4075 - val_loss: 0.3629 - val_acc: 0.8748 - val_binary_crossentropy: 0.3629\n",
      "Epoch 2/20\n",
      " - 5s - loss: 0.2867 - acc: 0.9067 - binary_crossentropy: 0.2867 - val_loss: 0.3079 - val_acc: 0.8845 - val_binary_crossentropy: 0.3079\n",
      "Epoch 3/20\n",
      " - 4s - loss: 0.2289 - acc: 0.9252 - binary_crossentropy: 0.2289 - val_loss: 0.2891 - val_acc: 0.8870 - val_binary_crossentropy: 0.2891\n",
      "Epoch 4/20\n",
      " - 4s - loss: 0.1947 - acc: 0.9364 - binary_crossentropy: 0.1947 - val_loss: 0.2858 - val_acc: 0.8851 - val_binary_crossentropy: 0.2858\n",
      "Epoch 5/20\n",
      " - 5s - loss: 0.1710 - acc: 0.9440 - binary_crossentropy: 0.1710 - val_loss: 0.2888 - val_acc: 0.8827 - val_binary_crossentropy: 0.2888\n",
      "Epoch 6/20\n",
      " - 4s - loss: 0.1522 - acc: 0.9518 - binary_crossentropy: 0.1522 - val_loss: 0.2952 - val_acc: 0.8813 - val_binary_crossentropy: 0.2952\n",
      "Epoch 7/20\n",
      " - 4s - loss: 0.1376 - acc: 0.9561 - binary_crossentropy: 0.1376 - val_loss: 0.3021 - val_acc: 0.8804 - val_binary_crossentropy: 0.3021\n",
      "Epoch 8/20\n",
      " - 4s - loss: 0.1242 - acc: 0.9615 - binary_crossentropy: 0.1242 - val_loss: 0.3113 - val_acc: 0.8787 - val_binary_crossentropy: 0.3113\n",
      "Epoch 9/20\n",
      " - 5s - loss: 0.1130 - acc: 0.9664 - binary_crossentropy: 0.1130 - val_loss: 0.3242 - val_acc: 0.8758 - val_binary_crossentropy: 0.3242\n",
      "Epoch 10/20\n",
      " - 5s - loss: 0.1017 - acc: 0.9704 - binary_crossentropy: 0.1017 - val_loss: 0.3355 - val_acc: 0.8738 - val_binary_crossentropy: 0.3355\n",
      "Epoch 11/20\n",
      " - 4s - loss: 0.0914 - acc: 0.9744 - binary_crossentropy: 0.0914 - val_loss: 0.3499 - val_acc: 0.8721 - val_binary_crossentropy: 0.3499\n",
      "Epoch 12/20\n",
      " - 5s - loss: 0.0811 - acc: 0.9791 - binary_crossentropy: 0.0811 - val_loss: 0.3655 - val_acc: 0.8705 - val_binary_crossentropy: 0.3655\n",
      "Epoch 13/20\n",
      " - 5s - loss: 0.0719 - acc: 0.9825 - binary_crossentropy: 0.0719 - val_loss: 0.3906 - val_acc: 0.8675 - val_binary_crossentropy: 0.3906\n",
      "Epoch 14/20\n",
      " - 6s - loss: 0.0642 - acc: 0.9842 - binary_crossentropy: 0.0642 - val_loss: 0.4008 - val_acc: 0.8668 - val_binary_crossentropy: 0.4008\n",
      "Epoch 15/20\n",
      " - 6s - loss: 0.0561 - acc: 0.9886 - binary_crossentropy: 0.0561 - val_loss: 0.4175 - val_acc: 0.8658 - val_binary_crossentropy: 0.4175\n",
      "Epoch 16/20\n",
      " - 6s - loss: 0.0492 - acc: 0.9907 - binary_crossentropy: 0.0492 - val_loss: 0.4374 - val_acc: 0.8642 - val_binary_crossentropy: 0.4374\n",
      "Epoch 17/20\n",
      " - 5s - loss: 0.0434 - acc: 0.9924 - binary_crossentropy: 0.0434 - val_loss: 0.4557 - val_acc: 0.8630 - val_binary_crossentropy: 0.4557\n",
      "Epoch 18/20\n",
      " - 5s - loss: 0.0383 - acc: 0.9940 - binary_crossentropy: 0.0383 - val_loss: 0.4740 - val_acc: 0.8626 - val_binary_crossentropy: 0.4740\n",
      "Epoch 19/20\n",
      " - 5s - loss: 0.0336 - acc: 0.9952 - binary_crossentropy: 0.0336 - val_loss: 0.4933 - val_acc: 0.8609 - val_binary_crossentropy: 0.4933\n",
      "Epoch 20/20\n",
      " - 5s - loss: 0.0298 - acc: 0.9960 - binary_crossentropy: 0.0298 - val_loss: 0.5132 - val_acc: 0.8603 - val_binary_crossentropy: 0.5132\n"
     ]
    }
   ],
   "source": [
    "smaller_history = smaller_model.fit(train_data, train_labels, epochs=20, batch_size = 512, validation_data= (test_data, test_labels), verbose=2)"
   ]
  },
  {
   "cell_type": "code",
   "execution_count": 14,
   "metadata": {
    "collapsed": false
   },
   "outputs": [
    {
     "name": "stdout",
     "output_type": "stream",
     "text": [
      "_________________________________________________________________\n",
      "Layer (type)                 Output Shape              Param #   \n",
      "=================================================================\n",
      "dense_10 (Dense)             (None, 512)               5120512   \n",
      "_________________________________________________________________\n",
      "dense_11 (Dense)             (None, 512)               262656    \n",
      "_________________________________________________________________\n",
      "dense_12 (Dense)             (None, 1)                 513       \n",
      "=================================================================\n",
      "Total params: 5,383,681\n",
      "Trainable params: 5,383,681\n",
      "Non-trainable params: 0\n",
      "_________________________________________________________________\n"
     ]
    }
   ],
   "source": [
    "bigger_model = keras.Sequential([\n",
    "    keras.layers.Dense(512, activation=tf.nn.relu, input_shape=(NUM_WORDS, )),\n",
    "    keras.layers.Dense(512, activation=tf.nn.relu),\n",
    "    keras.layers.Dense(1, activation=tf.nn.sigmoid)\n",
    "])\n",
    "bigger_model.compile(optimizer='adam', loss = 'binary_crossentropy', metrics=['accuracy', 'binary_crossentropy'])\n",
    "bigger_model.summary()"
   ]
  },
  {
   "cell_type": "code",
   "execution_count": 16,
   "metadata": {
    "collapsed": false
   },
   "outputs": [
    {
     "name": "stdout",
     "output_type": "stream",
     "text": [
      "Train on 25000 samples, validate on 25000 samples\n",
      "Epoch 1/20\n",
      " - 38s - loss: 0.3466 - acc: 0.8532 - binary_crossentropy: 0.3466 - val_loss: 0.2935 - val_acc: 0.8803 - val_binary_crossentropy: 0.2935\n",
      "Epoch 2/20\n",
      " - 42s - loss: 0.1419 - acc: 0.9484 - binary_crossentropy: 0.1419 - val_loss: 0.3306 - val_acc: 0.8737 - val_binary_crossentropy: 0.3306\n",
      "Epoch 3/20\n",
      " - 39s - loss: 0.0421 - acc: 0.9875 - binary_crossentropy: 0.0421 - val_loss: 0.4551 - val_acc: 0.8680 - val_binary_crossentropy: 0.4551\n",
      "Epoch 4/20\n",
      " - 36s - loss: 0.0051 - acc: 0.9993 - binary_crossentropy: 0.0051 - val_loss: 0.6080 - val_acc: 0.8651 - val_binary_crossentropy: 0.6080\n",
      "Epoch 5/20\n",
      " - 34s - loss: 0.0012 - acc: 1.0000 - binary_crossentropy: 0.0012 - val_loss: 0.6887 - val_acc: 0.8695 - val_binary_crossentropy: 0.6887\n",
      "Epoch 6/20\n",
      " - 33s - loss: 5.6634e-04 - acc: 1.0000 - binary_crossentropy: 5.6634e-04 - val_loss: 0.7413 - val_acc: 0.8671 - val_binary_crossentropy: 0.7413\n",
      "Epoch 7/20\n",
      " - 33s - loss: 1.2903e-04 - acc: 1.0000 - binary_crossentropy: 1.2903e-04 - val_loss: 0.7589 - val_acc: 0.8694 - val_binary_crossentropy: 0.7589\n",
      "Epoch 8/20\n",
      " - 33s - loss: 8.7552e-05 - acc: 1.0000 - binary_crossentropy: 8.7552e-05 - val_loss: 0.7841 - val_acc: 0.8692 - val_binary_crossentropy: 0.7841\n",
      "Epoch 9/20\n",
      " - 33s - loss: 6.3340e-05 - acc: 1.0000 - binary_crossentropy: 6.3340e-05 - val_loss: 0.8079 - val_acc: 0.8692 - val_binary_crossentropy: 0.8079\n",
      "Epoch 10/20\n",
      " - 34s - loss: 4.5929e-05 - acc: 1.0000 - binary_crossentropy: 4.5929e-05 - val_loss: 0.8333 - val_acc: 0.8695 - val_binary_crossentropy: 0.8333\n",
      "Epoch 11/20\n",
      " - 37s - loss: 3.3186e-05 - acc: 1.0000 - binary_crossentropy: 3.3186e-05 - val_loss: 0.8589 - val_acc: 0.8694 - val_binary_crossentropy: 0.8589\n",
      "Epoch 12/20\n",
      " - 36s - loss: 2.4403e-05 - acc: 1.0000 - binary_crossentropy: 2.4403e-05 - val_loss: 0.8821 - val_acc: 0.8696 - val_binary_crossentropy: 0.8821\n",
      "Epoch 13/20\n",
      " - 34s - loss: 1.8512e-05 - acc: 1.0000 - binary_crossentropy: 1.8512e-05 - val_loss: 0.9027 - val_acc: 0.8696 - val_binary_crossentropy: 0.9027\n",
      "Epoch 14/20\n",
      " - 34s - loss: 1.4530e-05 - acc: 1.0000 - binary_crossentropy: 1.4530e-05 - val_loss: 0.9212 - val_acc: 0.8694 - val_binary_crossentropy: 0.9212\n",
      "Epoch 15/20\n",
      " - 36s - loss: 1.1687e-05 - acc: 1.0000 - binary_crossentropy: 1.1687e-05 - val_loss: 0.9370 - val_acc: 0.8695 - val_binary_crossentropy: 0.9370\n",
      "Epoch 16/20\n",
      " - 37s - loss: 9.6237e-06 - acc: 1.0000 - binary_crossentropy: 9.6237e-06 - val_loss: 0.9513 - val_acc: 0.8694 - val_binary_crossentropy: 0.9513\n",
      "Epoch 17/20\n",
      " - 42s - loss: 8.0824e-06 - acc: 1.0000 - binary_crossentropy: 8.0824e-06 - val_loss: 0.9639 - val_acc: 0.8695 - val_binary_crossentropy: 0.9639\n",
      "Epoch 18/20\n",
      " - 38s - loss: 6.8908e-06 - acc: 1.0000 - binary_crossentropy: 6.8908e-06 - val_loss: 0.9757 - val_acc: 0.8696 - val_binary_crossentropy: 0.9757\n",
      "Epoch 19/20\n",
      " - 35s - loss: 5.9561e-06 - acc: 1.0000 - binary_crossentropy: 5.9561e-06 - val_loss: 0.9868 - val_acc: 0.8690 - val_binary_crossentropy: 0.9868\n",
      "Epoch 20/20\n",
      " - 41s - loss: 5.2084e-06 - acc: 1.0000 - binary_crossentropy: 5.2084e-06 - val_loss: 0.9968 - val_acc: 0.8689 - val_binary_crossentropy: 0.9968\n"
     ]
    }
   ],
   "source": [
    "bigger_model_history = bigger_model.fit(train_data, train_labels,\n",
    "                                        epochs=20, batch_size=512, validation_data=(test_data, test_labels), verbose=2)"
   ]
  },
  {
   "cell_type": "code",
   "execution_count": 21,
   "metadata": {
    "collapsed": false
   },
   "outputs": [
    {
     "data": {
      "image/png": "[encoded data removed]",
      "text/plain": [
       "<matplotlib.figure.Figure at 0x7faf3f324250>"
      ]
     },
     "metadata": {},
     "output_type": "display_data"
    }
   ],
   "source": [
    "#plot the training and validation losses\n",
    "#Proves bigger the model quickl it has tendency to remember the entire dataset\n",
    "#lower validation loss indicates the better model\n",
    "%matplotlib inline\n",
    "def plot_history(histories, key='binary_crossentropy'):\n",
    "    plt.figure(figsize=(16, 10))\n",
    "    for name, history in histories:\n",
    "        val = plt.plot(history.epoch, history.history['val_'+key], '--', label=name.title()+' Val')\n",
    "        plt.plot(history.epoch, history.history[key], color=val[0].get_color(),\n",
    "             label=name.title()+' Train')\n",
    "    plt.xlabel('Epochs')\n",
    "    plt.ylabel(key.replace('_',' ').title())\n",
    "    plt.legend()\n",
    "    plt.xlim([0,max(history.epoch)])\n",
    "plot_history([('baseline', baseline_history),\n",
    "              ('smaller', smaller_history),\n",
    "              ('bigger', bigger_model_history)])\n"
   ]
  },
  {
   "cell_type": "code",
   "execution_count": 23,
   "metadata": {
    "collapsed": false
   },
   "outputs": [
    {
     "name": "stdout",
     "output_type": "stream",
     "text": [
      "Train on 25000 samples, validate on 25000 samples\n",
      "Epoch 1/20\n",
      " - 14s - loss: 0.3865 - acc: 0.8648 - binary_crossentropy: 0.3227 - val_loss: 0.3659 - val_acc: 0.8807 - val_binary_crossentropy: 0.2888\n",
      "Epoch 2/20\n",
      " - 14s - loss: 0.3180 - acc: 0.9051 - binary_crossentropy: 0.2338 - val_loss: 0.3777 - val_acc: 0.8755 - val_binary_crossentropy: 0.2933\n",
      "Epoch 3/20\n",
      " - 16s - loss: 0.2965 - acc: 0.9159 - binary_crossentropy: 0.2093 - val_loss: 0.4042 - val_acc: 0.8678 - val_binary_crossentropy: 0.3163\n",
      "Epoch 4/20\n",
      " - 21s - loss: 0.2750 - acc: 0.9249 - binary_crossentropy: 0.1878 - val_loss: 0.4009 - val_acc: 0.8724 - val_binary_crossentropy: 0.3124\n",
      "Epoch 5/20\n",
      " - 17s - loss: 0.2533 - acc: 0.9328 - binary_crossentropy: 0.1661 - val_loss: 0.4246 - val_acc: 0.8651 - val_binary_crossentropy: 0.3346\n",
      "Epoch 6/20\n",
      " - 17s - loss: 0.2332 - acc: 0.9426 - binary_crossentropy: 0.1465 - val_loss: 0.4395 - val_acc: 0.8665 - val_binary_crossentropy: 0.3504\n",
      "Epoch 7/20\n",
      " - 16s - loss: 0.2164 - acc: 0.9486 - binary_crossentropy: 0.1300 - val_loss: 0.4552 - val_acc: 0.8620 - val_binary_crossentropy: 0.3656\n",
      "Epoch 8/20\n",
      " - 17s - loss: 0.2017 - acc: 0.9542 - binary_crossentropy: 0.1156 - val_loss: 0.4821 - val_acc: 0.8641 - val_binary_crossentropy: 0.3934\n",
      "Epoch 9/20\n",
      " - 18s - loss: 0.1965 - acc: 0.9564 - binary_crossentropy: 0.1091 - val_loss: 0.5035 - val_acc: 0.8618 - val_binary_crossentropy: 0.4132\n",
      "Epoch 10/20\n",
      " - 19s - loss: 0.1850 - acc: 0.9620 - binary_crossentropy: 0.0978 - val_loss: 0.5301 - val_acc: 0.8580 - val_binary_crossentropy: 0.4417\n",
      "Epoch 11/20\n",
      " - 19s - loss: 0.1849 - acc: 0.9612 - binary_crossentropy: 0.0967 - val_loss: 0.5322 - val_acc: 0.8586 - val_binary_crossentropy: 0.4405\n",
      "Epoch 12/20\n",
      " - 19s - loss: 0.1821 - acc: 0.9636 - binary_crossentropy: 0.0924 - val_loss: 0.5172 - val_acc: 0.8564 - val_binary_crossentropy: 0.4237\n",
      "Epoch 13/20\n",
      " - 18s - loss: 0.1794 - acc: 0.9645 - binary_crossentropy: 0.0881 - val_loss: 0.5574 - val_acc: 0.8555 - val_binary_crossentropy: 0.4639\n",
      "Epoch 14/20\n",
      " - 18s - loss: 0.1804 - acc: 0.9654 - binary_crossentropy: 0.0891 - val_loss: 0.5452 - val_acc: 0.8537 - val_binary_crossentropy: 0.4527\n",
      "Epoch 15/20\n",
      " - 18s - loss: 0.1798 - acc: 0.9649 - binary_crossentropy: 0.0888 - val_loss: 0.5207 - val_acc: 0.8574 - val_binary_crossentropy: 0.4254\n",
      "Epoch 16/20\n",
      " - 18s - loss: 0.1780 - acc: 0.9656 - binary_crossentropy: 0.0867 - val_loss: 0.5768 - val_acc: 0.8507 - val_binary_crossentropy: 0.4838\n",
      "Epoch 17/20\n",
      " - 18s - loss: 0.1714 - acc: 0.9687 - binary_crossentropy: 0.0802 - val_loss: 0.5715 - val_acc: 0.8557 - val_binary_crossentropy: 0.4795\n",
      "Epoch 18/20\n",
      " - 18s - loss: 0.1715 - acc: 0.9683 - binary_crossentropy: 0.0808 - val_loss: 0.5749 - val_acc: 0.8527 - val_binary_crossentropy: 0.4821\n",
      "Epoch 19/20\n",
      " - 19s - loss: 0.1773 - acc: 0.9660 - binary_crossentropy: 0.0861 - val_loss: 0.5466 - val_acc: 0.8510 - val_binary_crossentropy: 0.4529\n",
      "Epoch 20/20\n",
      " - 18s - loss: 0.1724 - acc: 0.9684 - binary_crossentropy: 0.0809 - val_loss: 0.5708 - val_acc: 0.8516 - val_binary_crossentropy: 0.4781\n"
     ]
    }
   ],
   "source": [
    "#weight regularization\n",
    "l2_model = keras.Sequential([\n",
    "    #every coefficient in the weight matrix of the layer will add 0.001\n",
    "    #* weight_coefficient_value to the total loss of the network.\n",
    "    keras.layers.Dense(16, activation=tf.nn.relu, kernel_regularizer=keras.regularizers.l2(0.001), input_shape=(NUM_WORDS, )),\n",
    "    keras.layers.Dense(16, kernel_regularizer=keras.regularizers.l2(0.001), activation=tf.nn.relu),\n",
    "    keras.layers.Dense(1, activation=tf.nn.sigmoid)\n",
    "])\n",
    "l2_model.compile(optimizer='adam', loss='binary_crossentropy', metrics=['accuracy', 'binary_crossentropy'])\n",
    "l2_model_history = l2_model.fit(train_data, train_labels, epochs=20, batch_size=20, validation_data=(test_data, test_labels), verbose=2)"
   ]
  },
  {
   "cell_type": "code",
   "execution_count": null,
   "metadata": {
    "collapsed": true
   },
   "outputs": [],
   "source": [
    "#impact of our regularization\n",
    "#the L2 regularized model has become much\n",
    "#more resistant to overfitting than the baseline model, even though both models have the same number of parameters.\n",
    "plot_history([('baseline', baseline_history),\n",
    "              ('l2', l2_model_history)])"
   ]
  },
  {
   "cell_type": "code",
   "execution_count": null,
   "metadata": {
    "collapsed": true
   },
   "outputs": [],
   "source": [
    "#Adding the dropout section\n",
    "dropout_model = keras.Sequential([\n",
    "    keras.layers.Dense(16, activation=tf.nn.relu, input_shape=(NUM_WORDS, )),\n",
    "    keras.layers.Dropout(0.5),\n",
    "    keras.layers.Dense(16, activation=tf.nn.relu),\n",
    "    keras.layers.Dropout(0.5),\n",
    "    keras.layers.Dense(1, activation=tf.nn.sigmoid)\n",
    "])\n",
    "dropout_model.compile(optimizer='adam', loss='binary_crossentropy', metrics=['accuracy', 'binary_crossentropy'])\n",
    "dropout_model.summary()"
   ]
  },
  {
   "cell_type": "code",
   "execution_count": null,
   "metadata": {
    "collapsed": true
   },
   "outputs": [],
   "source": [
    "dropout_model_history=dropout_model.fit(train_data, train_labels,\n",
    "                                        epochs=20, batch_size=512, validation_data=(test_data, test_labels), verbose=2)"
   ]
  },
  {
   "cell_type": "code",
   "execution_count": null,
   "metadata": {
    "collapsed": true
   },
   "outputs": [],
   "source": [
    "#impact of dropout\n",
    "plot_history([('baseline', baseline_history),\n",
    "              ('dropout', dpt_model_history)])\n"
   ]
  }
 ],
 "metadata": {
  "kernelspec": {
   "display_name": "Python 2",
   "language": "python",
   "name": "python2"
  },
  "language_info": {
   "codemirror_mode": {
    "name": "ipython",
    "version": 2
   },
   "file_extension": ".py",
   "mimetype": "text/x-python",
   "name": "python",
   "nbconvert_exporter": "python",
   "pygments_lexer": "ipython2",
   "version": "2.7.12"
  }
 },
 "nbformat": 4,
 "nbformat_minor": 2
}
