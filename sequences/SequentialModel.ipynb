{
 "cells": [
  {
   "cell_type": "code",
   "execution_count": 1,
   "metadata": {
    "collapsed": true,
    "deletable": true,
    "editable": true
   },
   "outputs": [],
   "source": [
    "#essential imports\n",
    "import tensorflow as tf\n",
    "import numpy as np\n",
    "from tensorflow.examples.tutorials.mnist import input_data\n",
    "from tensorflow.contrib import rnn"
   ]
  },
  {
   "cell_type": "code",
   "execution_count": 2,
   "metadata": {
    "collapsed": false,
    "deletable": true,
    "editable": true
   },
   "outputs": [
    {
     "name": "stdout",
     "output_type": "stream",
     "text": [
      "Extracting MNIST_data/train-images-idx3-ubyte.gz\n",
      "Extracting MNIST_data/train-labels-idx1-ubyte.gz\n",
      "Extracting MNIST_data/t10k-images-idx3-ubyte.gz\n",
      "Extracting MNIST_data/t10k-labels-idx1-ubyte.gz\n"
     ]
    }
   ],
   "source": [
    "#get dataset\n",
    "mnist = input_data.read_data_sets(\"MNIST_data/\", one_hot=True)\n",
    "trX, trY, teX, teY = mnist.train.images, mnist.train.labels, mnist.test.images, mnist.test.labels\n",
    "#(batch, sequenceLenght, input size)\n",
    "trX = trX.reshape(-1, 28, 28)\n",
    "#(batch, sequenceLength, input_size)\n",
    "teX = teX.reshape(-1, 28, 28)"
   ]
  },
  {
   "cell_type": "code",
   "execution_count": 3,
   "metadata": {
    "collapsed": true,
    "deletable": true,
    "editable": true
   },
   "outputs": [],
   "source": [
    "#essential functions\n",
    "def init_weights(shape):\n",
    "    return tf.Variable(tf.random_normal(shape, stddev=0.01))"
   ]
  },
  {
   "cell_type": "code",
   "execution_count": 4,
   "metadata": {
    "collapsed": true,
    "deletable": true,
    "editable": true
   },
   "outputs": [],
   "source": [
    "def prepareData(X, lstm_size):\n",
    "    #INPUT: (batch, time, inputVectorSize/lstmCell)\n",
    "    #OUTPUT:[(batch, inputVectorSize/lstmCell)] of length time\n",
    "    #STEP-1:(time, batch, inputVectorSize/lstmCell)\n",
    "    #STEP-2:(time*batch, inputVectorSize/lstmCell)\n",
    "    #STEP-3:[(batch, inputVectorSize/lstmCell)] of length time\n",
    "    \n",
    "    #STEP-1:\n",
    "    #SHAPE of X:(batch, time, inputVectorsize)\n",
    "    #Shape of XT:(time, batch, inputvectorSize)\n",
    "    XT = tf.transpose(X, [1, 0, 2])\n",
    "    \n",
    "    #STEP-2:\n",
    "    #get each row of size lstm cell i.e. (time*batch, lstmsize)\n",
    "    XR = tf.reshape(XT, [-1, lstm_size])\n",
    "    \n",
    "    #get total time_step_size arrays out of XR\n",
    "    #i.e. (batch, inputVectorSize) arrays of time steps\n",
    "    #implies total slices = time_steps and each slice is of order (minibatch, inputsize)\n",
    "    #axis = 0\n",
    "    X_split = tf.split(XR, time_step_size, 0)\n",
    "    return X_split\n",
    "\n",
    "\n",
    "#create the model\n",
    "def model(X, W, B, lstm_size):\n",
    "    X_split = prepareData(X, lstm_size)\n",
    "    # Make lstm with lstm_size (each input vector size)\n",
    "    lstm = rnn.BasicLSTMCell(lstm_size, forget_bias=1.0, state_is_tuple=True)\n",
    "    # Get lstm cell output, time_step_size (28) arrays with lstm_size output: (batch_size, lstm_size)\n",
    "    #total outputs and states are of size time steps\n",
    "    #output:[minibatchXlstm], states=[miniatchXlstm] of time step\n",
    "    outputs, _states = rnn.static_rnn(lstm, X_split, dtype=tf.float32)\n",
    "\n",
    "    # Linear activation\n",
    "    # Get the last output\n",
    "    #lstm.state_size====LSTMStateTuple(c=28, h=28)\n",
    "    #return multiplication with last output state cell\n",
    "    return tf.matmul(outputs[-1], W) + B, lstm.state_size # State size to initialize the stat\n",
    "\n"
   ]
  },
  {
   "cell_type": "code",
   "execution_count": 10,
   "metadata": {
    "collapsed": true,
    "deletable": true,
    "editable": true
   },
   "outputs": [],
   "source": [
    "#configuration variables\n",
    "batch_size        = 128\n",
    "test_size         = 256\n",
    "input_vector_size = 28\n",
    "lstm_size         = 28\n",
    "time_step_size    = 28"
   ]
  },
  {
   "cell_type": "code",
   "execution_count": 6,
   "metadata": {
    "collapsed": false,
    "deletable": true,
    "editable": true
   },
   "outputs": [],
   "source": [
    "OUTPUT_CLASSES = 10\n",
    "X = tf.placeholder(\"float\", shape=[None, 28, 28])\n",
    "Y = tf.placeholder(\"float\", shape=[None, OUTPUT_CLASSES])\n",
    "W = init_weights([lstm_size, OUTPUT_CLASSES])\n",
    "B = init_weights([OUTPUT_CLASSES])\n",
    "py_x, state_size = model(X, W, B, lstm_size)\n",
    "cost             = tf.reduce_mean(tf.nn.softmax_cross_entropy_with_logits(logits=py_x, labels=Y))\n",
    "train_op         = tf.train.RMSPropOptimizer(0.001, 0.9).minimize(cost)\n",
    "predict_op       = tf.argmax(py_x, 1)"
   ]
  },
  {
   "cell_type": "code",
   "execution_count": 12,
   "metadata": {
    "collapsed": false,
    "deletable": true,
    "editable": true
   },
   "outputs": [
    {
     "name": "stdout",
     "output_type": "stream",
     "text": [
      "Epoch:- 0 Accuracy:- 0.6484375\n",
      "Epoch:- 1 Accuracy:- 0.7890625\n",
      "Epoch:- 2 Accuracy:- 0.82421875\n",
      "Epoch:- 3 Accuracy:- 0.8828125\n",
      "Epoch:- 4 Accuracy:- 0.93359375\n",
      "Epoch:- 5 Accuracy:- 0.94140625\n",
      "Epoch:- 6 Accuracy:- 0.9375\n",
      "Epoch:- 7 Accuracy:- 0.93359375\n",
      "Epoch:- 8 Accuracy:- 0.9375\n",
      "Epoch:- 9 Accuracy:- 0.93359375\n"
     ]
    }
   ],
   "source": [
    "# Launch the graph in a session\n",
    "with tf.Session() as sess:\n",
    "    # you need to initialize all variables\n",
    "    tf.global_variables_initializer().run()\n",
    "\n",
    "    for i in range(10):\n",
    "        for start, end in zip(range(0, len(trX), batch_size), range(batch_size, len(trX)+1, batch_size)):\n",
    "#             print(\"batch \" + str(start))\n",
    "            sess.run(train_op, feed_dict={X: trX[start:end], Y: trY[start:end]})\n",
    "        test_indices = np.arange(len(teX))  # Get A Test Batch\n",
    "        np.random.shuffle(test_indices)\n",
    "        test_indices = test_indices[0:test_size]\n",
    "        predictions  = sess.run(predict_op, feed_dict={X: teX[test_indices]})\n",
    "        actuals      = np.argmax(teY[test_indices], axis=1)\n",
    "        accuracy     = np.mean(predictions==actuals)\n",
    "        print(\"Epoch:- \" + str(i) + \" Accuracy:- \" + str(accuracy))"
   ]
  }
 ],
 "metadata": {
  "kernelspec": {
   "display_name": "Python 2",
   "language": "python",
   "name": "python2"
  },
  "language_info": {
   "codemirror_mode": {
    "name": "ipython",
    "version": 2
   },
   "file_extension": ".py",
   "mimetype": "text/x-python",
   "name": "python",
   "nbconvert_exporter": "python",
   "pygments_lexer": "ipython2",
   "version": "2.7.12"
  }
 },
 "nbformat": 4,
 "nbformat_minor": 2
}
