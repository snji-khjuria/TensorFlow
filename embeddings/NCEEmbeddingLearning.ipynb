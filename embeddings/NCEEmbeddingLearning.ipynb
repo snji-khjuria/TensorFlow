{
 "cells": [
  {
   "cell_type": "code",
   "execution_count": 1,
   "metadata": {
    "collapsed": true
   },
   "outputs": [],
   "source": [
    "import tensorflow as tf\n",
    "import numpy as np\n",
    "import matplotlib.pyplot as plt\n",
    "import collections\n",
    "%matplotlib inline"
   ]
  },
  {
   "cell_type": "code",
   "execution_count": 2,
   "metadata": {
    "collapsed": true
   },
   "outputs": [],
   "source": [
    "#configuration section\n",
    "batch_size     = 20\n",
    "embedding_size = 2\n",
    "num_sampled    = 15    # Number of negative examples to sample."
   ]
  },
  {
   "cell_type": "code",
   "execution_count": 11,
   "metadata": {
    "collapsed": false
   },
   "outputs": [
    {
     "name": "stdout",
     "output_type": "stream",
     "text": [
      "91\n",
      "Samole data\n",
      "[80, 0, 58, 8, 63, 45, 21, 64, 4, 15]\n",
      "['1.33GHz', 'Intel', 'Z3735F', 'processor', '2GB', 'DDR3', 'RAM', '32GB', 'hard', 'drive']\n"
     ]
    }
   ],
   "source": [
    "#data section\n",
    "sentences = [\n",
    "    \"1.33GHz Intel Z3735F processor\",\n",
    "    \"2GB DDR3 RAM\",\n",
    "    \"32GB hard drive\", \n",
    "    \"Windows 10 operating system\",\n",
    "    \"1.3kg laptop\",\n",
    "    \"A sleek and lightweight design with a heavy-duty\\\n",
    "    11 hour battery backup and pre-installed Windows 10. The Intel Quad Core Processor (up to 1.83GHz)\\\n",
    "    along with the Dual Speakers and 29.46cm (11.6) IPS display makes for a delightful everyday computing experience.\",\n",
    "    \"All new 2017 Apple MacBook Air\\\n",
    "    1.8GHz Intel Core i5 processor\\\n",
    "    8GB LPDDR3 RAM, 128GB Solid State hard drive\\\n",
    "    13.3-inch screen, Intel HD Graphics 6000\\\n",
    "    MacOS Sierra operating system\\\n",
    "    1.35kg laptop\\\n",
    "    1440x900 pixels per inch with support for millions of colors, 720p FaceTime HD camera\\\n",
    "    1 year warranty from manufacturer from date of purchase\"\n",
    "]\n",
    "# print(sentences)\n",
    "words = \" \".join(sentences).split()\n",
    "# print(words)\n",
    "#get the most common words i.e. list of (word, count)\n",
    "count = collections.Counter(words).most_common()\n",
    "print(len(count))\n",
    "revDictionary = [i[0] for i in count]\n",
    "#word->id dictionary\n",
    "dictionary = {i[0]:index for index, i in enumerate(count)}\n",
    "voc_size = len(dictionary)\n",
    "#make indexed data for data in corpus\n",
    "data = [dictionary[word] for word in words]\n",
    "print(\"Samole data\")\n",
    "print(data[:10])\n",
    "print([revDictionary[item] for item in data[:10]])"
   ]
  },
  {
   "cell_type": "code",
   "execution_count": 17,
   "metadata": {
    "collapsed": false
   },
   "outputs": [
    {
     "name": "stdout",
     "output_type": "stream",
     "text": [
      "[[[80, 58], 0], [[0, 8], 58], [[58, 63], 8], [[8, 45], 63], [[63, 21], 45], [[45, 64], 21], [[21, 4], 64], [[64, 15], 4], [[4, 13], 15], [[15, 24], 13]]\n"
     ]
    }
   ],
   "source": [
    "#create cbow pairs\n",
    "cbow_pairs = []\n",
    "for index in range(1, len(data)-1):\n",
    "    cbow_pairs.append([[data[index-1], data[index+1]], data[index]])\n",
    "print(cbow_pairs[:10])"
   ]
  },
  {
   "cell_type": "code",
   "execution_count": 18,
   "metadata": {
    "collapsed": false
   },
   "outputs": [
    {
     "name": "stdout",
     "output_type": "stream",
     "text": [
      "('skip-gram pairs', [[0, 80], [0, 58], [58, 0], [58, 8], [8, 58]])\n"
     ]
    }
   ],
   "source": [
    "#create skip gram pairs\n",
    "skip_gram_pairs = [];\n",
    "for c in cbow_pairs:\n",
    "    skip_gram_pairs.append([c[1], c[0][0]])\n",
    "    skip_gram_pairs.append([c[1], c[0][1]])\n",
    "print('skip-gram pairs', skip_gram_pairs[:5])\n"
   ]
  },
  {
   "cell_type": "code",
   "execution_count": 19,
   "metadata": {
    "collapsed": true
   },
   "outputs": [],
   "source": [
    "#generate training set\n",
    "def generate_batch(size):\n",
    "    x_data = []\n",
    "    y_data = []\n",
    "    #replace for whether the sample is with or without replacement\n",
    "    r = np.random.choice(range(len(skip_gram_pairs)), size, replace=False)\n",
    "    for i in r:\n",
    "        x_data.append(skip_gram_pairs[i][0])  # n dim\n",
    "        y_data.append([skip_gram_pairs[i][1]])  # n, 1 dim\n",
    "    return x_data, y_data"
   ]
  },
  {
   "cell_type": "code",
   "execution_count": 21,
   "metadata": {
    "collapsed": false
   },
   "outputs": [],
   "source": [
    "#creating the placeholders pipeline\n",
    "train_inputs = tf.placeholder(tf.int32, shape=[batch_size])\n",
    "train_labels = tf.placeholder(tf.int32, shape=[batch_size, 1])\n",
    "#create embedding variable of size [CLASS X DIMENSION]\n",
    "embeddings = tf.Variable(tf.random_uniform([voc_size, embedding_size], -1.0, 1.0))\n",
    "#create lookup variable\n",
    "embed = tf.nn.embedding_lookup(embeddings, train_inputs) # lookup table\n",
    "        \n"
   ]
  },
  {
   "cell_type": "code",
   "execution_count": 22,
   "metadata": {
    "collapsed": true
   },
   "outputs": [],
   "source": [
    "#create nce weights\n",
    "# Construct the variables for the NCE loss\n",
    "nce_weights = tf.Variable(\n",
    "    tf.random_uniform([voc_size, embedding_size],-1.0, 1.0))\n",
    "nce_biases = tf.Variable(tf.zeros([voc_size]))"
   ]
  },
  {
   "cell_type": "code",
   "execution_count": 23,
   "metadata": {
    "collapsed": true
   },
   "outputs": [],
   "source": [
    "#construct nce loss\n",
    "# Compute the average NCE loss for the batch.\n",
    "# This does the magic:\n",
    "#   tf.nn.nce_loss(weights, biases, labels, inputss, num_sampled, num_classes ...)\n",
    "# It automatically draws negative samples when we evaluate the loss.\n",
    "#Takes the following:\n",
    "#1. wts:- numClasses X dimension, bias:- numberOfClasses\n",
    "#3. labels:-[batch, numTrye], input:- [Batch X dimension]\n",
    "loss = tf.reduce_mean(tf.nn.nce_loss(nce_weights, nce_biases, train_labels, embed, num_sampled, voc_size))\n",
    "# Use the adam optimizer\n",
    "train_op = tf.train.AdamOptimizer(1e-1).minimize(loss)"
   ]
  },
  {
   "cell_type": "code",
   "execution_count": 28,
   "metadata": {
    "collapsed": false
   },
   "outputs": [
    {
     "name": "stdout",
     "output_type": "stream",
     "text": [
      "('Loss at ', 0, 21.124479)\n",
      "('Loss at ', 10, 23.192398)\n",
      "('Loss at ', 20, 14.743945)\n",
      "('Loss at ', 30, 6.0520511)\n",
      "('Loss at ', 40, 7.0778017)\n",
      "('Loss at ', 50, 4.0993586)\n",
      "('Loss at ', 60, 5.3540182)\n",
      "('Loss at ', 70, 4.4170599)\n",
      "('Loss at ', 80, 3.5613995)\n",
      "('Loss at ', 90, 3.3660469)\n"
     ]
    },
    {
     "data": {
      "image/png": "[encoded data removed]",
      "text/plain": [
       "<matplotlib.figure.Figure at 0x7f40ca5f2e10>"
      ]
     },
     "metadata": {},
     "output_type": "display_data"
    }
   ],
   "source": [
    "# Launch the graph in a session\n",
    "with tf.Session() as sess:\n",
    "    # Initializing all variables\n",
    "    tf.global_variables_initializer().run()\n",
    "    for step in range(100):\n",
    "        batch_inputs, batch_labels = generate_batch(batch_size)\n",
    "        _, loss_val = sess.run([train_op, loss],\n",
    "                feed_dict={train_inputs: batch_inputs, train_labels: batch_labels})\n",
    "        if step % 10 == 0:\n",
    "            print(\"Loss at \", step, loss_val) # Report the loss\n",
    "    # Final embeddings are ready for you to use. Need to normalize for practical use\n",
    "    trained_embeddings = embeddings.eval()\n",
    "    # Show word2vec if dim is 2\n",
    "    if trained_embeddings.shape[1] == 2:\n",
    "        labels = revDictionary[20:50] # Show top 10 words\n",
    "        for i, label in enumerate(labels):\n",
    "            x, y = trained_embeddings[i,:]\n",
    "            plt.scatter(x, y)\n",
    "            plt.annotate(label, xy=(x, y), xytext=(5, 2),\n",
    "                textcoords='offset points', ha='right', va='bottom')\n",
    "        plt.savefig(\"word2vec.png\")"
   ]
  }
 ],
 "metadata": {
  "kernelspec": {
   "display_name": "Python 2",
   "language": "python",
   "name": "python2"
  },
  "language_info": {
   "codemirror_mode": {
    "name": "ipython",
    "version": 2
   },
   "file_extension": ".py",
   "mimetype": "text/x-python",
   "name": "python",
   "nbconvert_exporter": "python",
   "pygments_lexer": "ipython2",
   "version": "2.7.12"
  }
 },
 "nbformat": 4,
 "nbformat_minor": 2
}
